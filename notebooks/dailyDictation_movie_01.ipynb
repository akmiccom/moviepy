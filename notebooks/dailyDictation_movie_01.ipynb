{
 "cells": [
  {
   "cell_type": "code",
   "execution_count": 500,
   "metadata": {},
   "outputs": [],
   "source": [
    "# 場合より FFMPEG_BINARY, FFPLAY_BINARY のパスを読み込みする\n",
    "# import os\n",
    "# FFMPEG_PATH = \"C:/Users/JY810251/ffmpeg-master-latest-win64-gpl-shared/bin\"\n",
    "# os.environ[\"FFMPEG_BINARY\"] = f\"{FFMPEG_PATH}/ffmpeg.exe\"\n",
    "# os.environ[\"FFPLAY_BINARY\"] = f\"{FFMPEG_PATH}/ffplay.exe\""
   ]
  },
  {
   "cell_type": "code",
   "execution_count": 1,
   "metadata": {},
   "outputs": [],
   "source": [
    "from moviepy import AudioFileClip, ColorClip, TextClip, CompositeVideoClip\n",
    "from moviepy import vfx\n",
    "import matplotlib.pyplot as plt\n",
    "from glob import glob\n",
    "import re"
   ]
  },
  {
   "cell_type": "code",
   "execution_count": 502,
   "metadata": {},
   "outputs": [],
   "source": [
    "MAIN_PATH = \"C:/Users/JY810251/python/dailydictation\""
   ]
  },
  {
   "cell_type": "code",
   "execution_count": 503,
   "metadata": {},
   "outputs": [],
   "source": [
    "# Get title and section from markdown\n",
    "markdown_path = f\"{MAIN_PATH}/markdown/DailyDictation_conversation_English.md\"\n",
    "with open(markdown_path) as f:\n",
    "    markdown_text = f.read()\n",
    "\n",
    "# Extract text by section using re\n",
    "sections = re.split(r\"##\\s+\\d+\\.\\s+[^\\n]+\\n\", markdown_text)[1:]\n",
    "titles = re.findall(r\"##\\s+\\d+\\.\\s+[^\\n]+\", markdown_text)\n",
    "\n",
    "# Line Break Adjustments\n",
    "sections = [f\"{section.strip()}\\n\" for section in sections]\n",
    "titles = [re.sub(\"## \", \"\", title) for title in titles]"
   ]
  },
  {
   "cell_type": "code",
   "execution_count": 504,
   "metadata": {},
   "outputs": [],
   "source": [
    "# Get mp3 list\n",
    "AUDIO_FILE = rf\"{MAIN_PATH}\\mp3\\*.mp3\"\n",
    "audio_files = sorted(glob(AUDIO_FILE), key=lambda x: int(x.split(\"\\\\\")[-1].split(\"-\")[0]))"
   ]
  },
  {
   "cell_type": "code",
   "execution_count": 505,
   "metadata": {},
   "outputs": [
    {
     "name": "stdout",
     "output_type": "stream",
     "text": [
      "77 43\n",
      "89 979\n",
      "24 1\n"
     ]
    }
   ],
   "source": [
    "## 文字数の確認\n",
    "title_len_max, index = 0, 0\n",
    "for i, t in enumerate(titles):\n",
    "    if title_len_max < len(t):\n",
    "        title_len_max = len(t)\n",
    "        index = i\n",
    "print(index, title_len_max)\n",
    "\n",
    "section_len_max, index = 0, 0\n",
    "for i, t in enumerate(sections):\n",
    "    if section_len_max < len(t):\n",
    "        section_len_max = len(t)\n",
    "        index = i\n",
    "print(index, section_len_max)\n",
    "\n",
    "section_len_min, index = 100000, 0\n",
    "for i, t in enumerate(sections):\n",
    "    if section_len_min > len(t):\n",
    "        section_len_min = len(t)\n",
    "        index = i\n",
    "print(index, section_len_min)"
   ]
  },
  {
   "cell_type": "code",
   "execution_count": 506,
   "metadata": {},
   "outputs": [
    {
     "name": "stdout",
     "output_type": "stream",
     "text": [
      "C:/Users/JY810251/python/dailydictation\\mp3\\90-applying-for-a-job.mp3\n",
      "90. Applying for a job\n",
      "Come in... come in. It's Miss Wallace, isn't it?\n",
      "Yes, that's right. How do you do?\n",
      "How do you do? Pl ...\n"
     ]
    }
   ],
   "source": [
    "n = 22\n",
    "n = 79\n",
    "n = 77 # max title\n",
    "n = 4\n",
    "n = 5\n",
    "n = 7\n",
    "n = 9\n",
    "n = 32\n",
    "n = 33\n",
    "n = 34\n",
    "n = 35\n",
    "n = 89 # max sections\n",
    "print(audio_files[n])\n",
    "print(titles[n])\n",
    "print(f\"{sections[n][:100]} ...\")"
   ]
  },
  {
   "cell_type": "code",
   "execution_count": 507,
   "metadata": {},
   "outputs": [
    {
     "name": "stdout",
     "output_type": "stream",
     "text": [
      "Audio file: C:/Users/JY810251/python/dailydictation\\mp3\\90-applying-for-a-job.mp3\n",
      "Audio Duration: 62.24 seconds\n"
     ]
    }
   ],
   "source": [
    "# AudioFileClip\n",
    "# AudioFileClip(filename, decode_file=False, buffersize=200000, nbytes=2, fps=44100)\n",
    "\n",
    "audio_clip = AudioFileClip(audio_files[n], buffersize=200000, nbytes=2, fps=44100)\n",
    "\n",
    "print(f\"Audio file: {audio_files[n]}\")\n",
    "print(f\"Audio Duration: {audio_clip.duration} seconds\")"
   ]
  },
  {
   "cell_type": "code",
   "execution_count": 508,
   "metadata": {},
   "outputs": [
    {
     "name": "stdout",
     "output_type": "stream",
     "text": [
      "Size: (1920, 1080)\n"
     ]
    }
   ],
   "source": [
    "# ColorClip\n",
    "# ColorClip(size, color=None, is_mask=False, duration=None)\n",
    "\n",
    "FHD = 1920, 1080\n",
    "RGB = 30, 30, 30\n",
    "RGB = 34, 24, 22\n",
    "background = ColorClip(FHD, color=RGB)\n",
    "\n",
    "print(f\"Size: {background.size}\")"
   ]
  },
  {
   "cell_type": "code",
   "execution_count": 509,
   "metadata": {},
   "outputs": [],
   "source": [
    "# TitleClip\n",
    "# TextClip(\n",
    "#     font, text=None, filename=None, font_size=None, size=(None, None), margin=(None, None),\n",
    "#     color=\"black\", bg_color=None, stroke_color=None, stroke_width=0, method=\"label\", text_align=\"left\",\n",
    "#     horizontal_align=\"center\", vertical_align=\"center\", interline=4, transparent=True, duration=None,\n",
    "# )\n",
    "\n",
    "FONT = \"../font/MONOS.ttf\"\n",
    "TITLE_FONT_SIZE = 70\n",
    "TITLE_H = 200\n",
    "MARGIN_H, MARGIN_V = 30, 30\n",
    "\n",
    "title_clip = TextClip(\n",
    "    FONT,\n",
    "    text=titles[n],\n",
    "    font_size=TITLE_FONT_SIZE,\n",
    "    # size=(FHD[0]-MARGIN_H-MARGIN_V, None),\n",
    "    margin=(MARGIN_H, MARGIN_V),\n",
    "    color=\"white\",\n",
    ")\n",
    "\n",
    "# # Check\n",
    "# title_clip.show()\n",
    "\n",
    "# # Check\n",
    "# title_clip_file = f\"../img/title_clip_No.{n+1}.png\"\n",
    "# title_clip.save_frame(title_clip_file)\n",
    "# img = plt.imread(title_clip_file)\n",
    "# plt.imshow(img)\n",
    "# plt.show()\n",
    "# print(title_clip.w, title_clip.h)"
   ]
  },
  {
   "cell_type": "code",
   "execution_count": 510,
   "metadata": {},
   "outputs": [],
   "source": [
    "# Sectons Clip\n",
    "# TextClip(\n",
    "#     font, text=None, filename=None, font_size=None, size=(None, None), margin=(None, None),\n",
    "#     color=\"black\", bg_color=None, stroke_color=None, stroke_width=0, method=\"label\", text_align=\"left\",\n",
    "#     horizontal_align=\"center\", vertical_align=\"center\", interline=4, transparent=True, duration=None,\n",
    "# )\n",
    "\n",
    "M_LEFT, M_TOP, M_RIGHT, M_BTM  = 50, 50, 30, 0\n",
    "INTER_LINE = 50\n",
    "\n",
    "section_clip = TextClip(\n",
    "    FONT,\n",
    "    sections[n],\n",
    "    font_size = 45,\n",
    "    color=\"white\",\n",
    "    size=(FHD[0]-M_LEFT-M_RIGHT, None),\n",
    "    method=\"caption\",\n",
    "    margin=(M_LEFT, M_TOP, M_RIGHT, M_BTM),\n",
    "    interline=INTER_LINE,\n",
    "    # duration=video_duration,\n",
    ")\n",
    "\n",
    "\n",
    "# # Check\n",
    "# section_clip.show()\n",
    "\n",
    "# # Check\n",
    "# section_clip_file = f\"../img/section_clip_No.{n+1}.png\"\n",
    "# section_clip.save_frame(section_clip_file)\n",
    "# img = plt.imread(section_clip_file)\n",
    "# plt.imshow(img)\n",
    "# plt.show()\n",
    "# print(section_clip.w, section_clip.h)"
   ]
  },
  {
   "cell_type": "code",
   "execution_count": 511,
   "metadata": {},
   "outputs": [],
   "source": [
    "# Footer Clip\n",
    "footer_clip = TextClip(\n",
    "    FONT,\n",
    "    \"akmiccom@gmail.com\",\n",
    "    font_size=20,\n",
    "    color=\"white\",\n",
    "    margin=(10, 10),\n",
    ")\n",
    "\n",
    "\n",
    "# # Check\n",
    "# footer_clip.show()\n",
    "\n",
    "# # Check\n",
    "# footer_clip_file = f\"../img/footer_clip_No.{n+1}.png\"\n",
    "# footer_clip.save_frame(footer_clip_file)\n",
    "# img = plt.imread(footer_clip_file)\n",
    "# plt.imshow(img)\n",
    "# plt.show()\n",
    "# print(footer_clip.w, footer_clip.h)"
   ]
  },
  {
   "cell_type": "code",
   "execution_count": 512,
   "metadata": {},
   "outputs": [],
   "source": [
    "# clip timing and effects\n",
    "\n",
    "video_duration = audio_clip.duration + 4\n",
    "# print(audio_clip.duration)\n",
    "# print(video_duration)\n",
    "\n",
    "# with_audio\n",
    "background = background.with_duration(video_duration)\n",
    "video_clip = background.with_audio(audio_clip)\n",
    "# print(video_clip.start, video_clip.end)\n",
    "\n",
    "title_clip = title_clip.with_start(0).with_end(10)\n",
    "title_clip = title_clip.with_effects([vfx.FadeIn(0), vfx.FadeOut(3)])\n",
    "title_clip = title_clip.with_position(('center', \"top\"))\n",
    "# print(title_clip.start, title_clip.end)\n",
    "\n",
    "footer_clip = footer_clip.with_start(0).with_end(10)\n",
    "footer_clip = footer_clip.with_position(('right', \"bottom\"))\n",
    "footer_clip = footer_clip.with_effects([vfx.FadeIn(0), vfx.FadeOut(3)])"
   ]
  },
  {
   "cell_type": "code",
   "execution_count": 513,
   "metadata": {},
   "outputs": [],
   "source": [
    "section_clip = section_clip.with_start(1).with_end(video_duration-1)\n",
    "section_clip = section_clip.with_effects([vfx.FadeIn(1), vfx.FadeOut(3)])\n",
    "# print(section_clip.start, section_clip.end)\n",
    "\n",
    "START_POSITION = 900\n",
    "SPEED_PARAMETER = 1.4\n",
    "init_speed = section_clip.h / video_duration * SPEED_PARAMETER\n",
    "section_clip = section_clip.with_position(\n",
    "    lambda t: (\"center\", START_POSITION - t * int(init_speed))\n",
    ")\n",
    "\n"
   ]
  },
  {
   "cell_type": "code",
   "execution_count": 514,
   "metadata": {},
   "outputs": [
    {
     "name": "stdout",
     "output_type": "stream",
     "text": [
      "66.24000000000001\n"
     ]
    }
   ],
   "source": [
    "# # CompositeVideoClip\n",
    "# CompositeVideoClip(\\\n",
    "#     clips, size=None, bg_color=None, use_bgclip=False, is_mask=False\n",
    "#     )\n",
    "video = CompositeVideoClip([video_clip, title_clip, footer_clip, section_clip])\n",
    "print(video.duration)"
   ]
  },
  {
   "cell_type": "code",
   "execution_count": 515,
   "metadata": {},
   "outputs": [
    {
     "name": "stdout",
     "output_type": "stream",
     "text": [
      "MoviePy - Building video ../mp4/test_No.90.mp4.\n",
      "MoviePy - Writing audio in test_No.90TEMP_MPY_wvf_snd.mp3\n"
     ]
    },
    {
     "name": "stderr",
     "output_type": "stream",
     "text": [
      "                                                                      \r"
     ]
    },
    {
     "name": "stdout",
     "output_type": "stream",
     "text": [
      "MoviePy - Done.\n",
      "MoviePy - Writing video ../mp4/test_No.90.mp4\n",
      "\n"
     ]
    },
    {
     "name": "stderr",
     "output_type": "stream",
     "text": [
      "                                                                          \r"
     ]
    },
    {
     "name": "stdout",
     "output_type": "stream",
     "text": [
      "MoviePy - Done !\n",
      "MoviePy - video ready ../mp4/test_No.90.mp4\n"
     ]
    }
   ],
   "source": [
    "# 動画を保存\n",
    "# FPS = 20\n",
    "FPS = 1\n",
    "# video.write_videofile(f\"../mp4/test_No.{n+1}.mp4\", fps=FPS, codec=\"libx264\")"
   ]
  },
  {
   "cell_type": "code",
   "execution_count": null,
   "metadata": {},
   "outputs": [],
   "source": []
  }
 ],
 "metadata": {
  "kernelspec": {
   "display_name": ".venv",
   "language": "python",
   "name": "python3"
  },
  "language_info": {
   "codemirror_mode": {
    "name": "ipython",
    "version": 3
   },
   "file_extension": ".py",
   "mimetype": "text/x-python",
   "name": "python",
   "nbconvert_exporter": "python",
   "pygments_lexer": "ipython3",
   "version": "3.11.9"
  }
 },
 "nbformat": 4,
 "nbformat_minor": 2
}
