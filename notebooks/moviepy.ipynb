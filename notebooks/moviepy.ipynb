{
 "cells": [
  {
   "cell_type": "code",
   "execution_count": 24,
   "metadata": {},
   "outputs": [
    {
     "name": "stdout",
     "output_type": "stream",
     "text": [
      "MoviePy: ffmpeg successfully found in 'C:/Users/JY810251/ffmpeg-master-latest-win64-gpl-shared/bin/ffmpeg.exe'.\n",
      "MoviePy: ffmpeg successfully found in 'C:/Users/JY810251/ffmpeg-master-latest-win64-gpl-shared/bin/ffplay.exe'.\n"
     ]
    }
   ],
   "source": [
    "import os\n",
    "os.environ[\"FFMPEG_BINARY\"] = f\"C:/Users/JY810251/ffmpeg-master-latest-win64-gpl-shared/bin/ffmpeg.exe\"\n",
    "os.environ[\"FFPLAY_BINARY\"] = f\"C:/Users/JY810251/ffmpeg-master-latest-win64-gpl-shared/bin/ffplay.exe\"\n",
    "\n",
    "from moviepy import *\n",
    "\n",
    "from moviepy.config import check\n",
    "check()"
   ]
  },
  {
   "cell_type": "code",
   "execution_count": 26,
   "metadata": {},
   "outputs": [],
   "source": [
    "video = VideoFileClip(\"../resources/bbb.mp4\")"
   ]
  },
  {
   "cell_type": "code",
   "execution_count": 28,
   "metadata": {},
   "outputs": [
    {
     "ename": "AttributeError",
     "evalue": "'VideoFileClip' object has no attribute 'with_subclip'",
     "output_type": "error",
     "traceback": [
      "\u001b[1;31m---------------------------------------------------------------------------\u001b[0m",
      "\u001b[1;31mAttributeError\u001b[0m                            Traceback (most recent call last)",
      "Cell \u001b[1;32mIn[28], line 1\u001b[0m\n\u001b[1;32m----> 1\u001b[0m intro_clip \u001b[38;5;241m=\u001b[39m \u001b[43mvideo\u001b[49m\u001b[38;5;241;43m.\u001b[39;49m\u001b[43mwith_subclip\u001b[49m(\u001b[38;5;241m1\u001b[39m, \u001b[38;5;241m11\u001b[39m)\n\u001b[0;32m      2\u001b[0m \u001b[38;5;66;03m# bird_clip = video.with_subclip(16, 20)\u001b[39;00m\n\u001b[0;32m      3\u001b[0m \u001b[38;5;66;03m# bunny_clip = video.with_subclip(37, 55)\u001b[39;00m\n",
      "\u001b[1;31mAttributeError\u001b[0m: 'VideoFileClip' object has no attribute 'with_subclip'"
     ]
    }
   ],
   "source": [
    "intro_clip = video.with_subclip(1, 11)\n",
    "# bird_clip = video.with_subclip(16, 20)\n",
    "# bunny_clip = video.with_subclip(37, 55)"
   ]
  },
  {
   "cell_type": "code",
   "execution_count": 22,
   "metadata": {},
   "outputs": [
    {
     "ename": "AttributeError",
     "evalue": "'CompositeVideoClip' object has no attribute 'set_audio'",
     "output_type": "error",
     "traceback": [
      "\u001b[1;31m---------------------------------------------------------------------------\u001b[0m",
      "\u001b[1;31mAttributeError\u001b[0m                            Traceback (most recent call last)",
      "Cell \u001b[1;32mIn[22], line 18\u001b[0m\n\u001b[0;32m      8\u001b[0m background \u001b[38;5;241m=\u001b[39m ColorClip(\n\u001b[0;32m      9\u001b[0m     size\u001b[38;5;241m=\u001b[39m(\u001b[38;5;241m1920\u001b[39m, \u001b[38;5;241m1080\u001b[39m), \n\u001b[0;32m     10\u001b[0m     color\u001b[38;5;241m=\u001b[39m(\u001b[38;5;241m255\u001b[39m, \u001b[38;5;241m255\u001b[39m, \u001b[38;5;241m255\u001b[39m),\n\u001b[0;32m     11\u001b[0m     duration\u001b[38;5;241m=\u001b[39maudio\u001b[38;5;241m.\u001b[39mduration\n\u001b[0;32m     12\u001b[0m     )\n\u001b[0;32m     14\u001b[0m \u001b[38;5;66;03m# # 音声を追加\u001b[39;00m\n\u001b[0;32m     15\u001b[0m \u001b[38;5;66;03m# video = video.set_audio(audio)\u001b[39;00m\n\u001b[0;32m     16\u001b[0m \n\u001b[0;32m     17\u001b[0m \u001b[38;5;66;03m# 背景に音声を設定するにはCompositeVideoClipを使用\u001b[39;00m\n\u001b[1;32m---> 18\u001b[0m video \u001b[38;5;241m=\u001b[39m \u001b[43mCompositeVideoClip\u001b[49m\u001b[43m(\u001b[49m\u001b[43m[\u001b[49m\u001b[43mbackground\u001b[49m\u001b[43m]\u001b[49m\u001b[43m)\u001b[49m\u001b[38;5;241;43m.\u001b[39;49m\u001b[43mset_audio\u001b[49m(audio)\n\u001b[0;32m     20\u001b[0m \u001b[38;5;66;03m# 動画を保存\u001b[39;00m\n\u001b[0;32m     21\u001b[0m video\u001b[38;5;241m.\u001b[39mwrite_videofile(\u001b[38;5;124m\"\u001b[39m\u001b[38;5;124m../mp4/output.mp4\u001b[39m\u001b[38;5;124m\"\u001b[39m, fps\u001b[38;5;241m=\u001b[39m\u001b[38;5;241m24\u001b[39m, codec\u001b[38;5;241m=\u001b[39m\u001b[38;5;124m\"\u001b[39m\u001b[38;5;124mlibx264\u001b[39m\u001b[38;5;124m\"\u001b[39m)\n",
      "\u001b[1;31mAttributeError\u001b[0m: 'CompositeVideoClip' object has no attribute 'set_audio'"
     ]
    }
   ],
   "source": [
    "# 音声ファイル\n",
    "file_name = \"../mp3/gtts_output.mp3\"\n",
    "audio = AudioFileClip(file_name)\n",
    "\n",
    "audio\n",
    "\n",
    "# 動画の背景\n",
    "background = ColorClip(\n",
    "    size=(1920, 1080), \n",
    "    color=(255, 255, 255),\n",
    "    duration=audio.duration\n",
    "    )\n",
    "\n",
    "# # 音声を追加\n",
    "# video = video.set_audio(audio)\n",
    "\n",
    "# 背景に音声を設定するにはCompositeVideoClipを使用\n",
    "video = CompositeVideoClip([background]).set_audio(audio)\n",
    "\n",
    "# 動画を保存\n",
    "video.write_videofile(\"../mp4/output.mp4\", fps=24, codec=\"libx264\")"
   ]
  },
  {
   "cell_type": "code",
   "execution_count": null,
   "metadata": {},
   "outputs": [
    {
     "ename": "AttributeError",
     "evalue": "'ColorClip' object has no attribute 'editor'",
     "output_type": "error",
     "traceback": [
      "\u001b[1;31m---------------------------------------------------------------------------\u001b[0m",
      "\u001b[1;31mAttributeError\u001b[0m                            Traceback (most recent call last)",
      "Cell \u001b[1;32mIn[20], line 11\u001b[0m\n\u001b[0;32m      8\u001b[0m background \u001b[38;5;241m=\u001b[39m ColorClip(size\u001b[38;5;241m=\u001b[39m(\u001b[38;5;241m1920\u001b[39m, \u001b[38;5;241m1080\u001b[39m), color\u001b[38;5;241m=\u001b[39m(\u001b[38;5;241m30\u001b[39m, \u001b[38;5;241m30\u001b[39m, \u001b[38;5;241m30\u001b[39m), duration\u001b[38;5;241m=\u001b[39maudio\u001b[38;5;241m.\u001b[39mduration)\n\u001b[0;32m     10\u001b[0m \u001b[38;5;66;03m# 背景に音声を設定する\u001b[39;00m\n\u001b[1;32m---> 11\u001b[0m video \u001b[38;5;241m=\u001b[39m \u001b[43mbackground\u001b[49m\u001b[38;5;241;43m.\u001b[39;49m\u001b[43meditor\u001b[49m\u001b[38;5;241m.\u001b[39mset_audio(audio)\n\u001b[0;32m     13\u001b[0m \u001b[38;5;66;03m# 動画を保存\u001b[39;00m\n\u001b[0;32m     14\u001b[0m video\u001b[38;5;241m.\u001b[39mwrite_videofile(\u001b[38;5;124m\"\u001b[39m\u001b[38;5;124moutput_with_audio.mp4\u001b[39m\u001b[38;5;124m\"\u001b[39m, fps\u001b[38;5;241m=\u001b[39m\u001b[38;5;241m24\u001b[39m, codec\u001b[38;5;241m=\u001b[39m\u001b[38;5;124m\"\u001b[39m\u001b[38;5;124mlibx264\u001b[39m\u001b[38;5;124m\"\u001b[39m)\n",
      "\u001b[1;31mAttributeError\u001b[0m: 'ColorClip' object has no attribute 'editor'"
     ]
    }
   ],
   "source": [
    "from moviepy import *\n",
    "\n",
    "# 音声ファイルを読み込む\n",
    "file_name = \"../mp3/gtts_output.mp3\"\n",
    "audio = AudioFileClip(file_name)\n",
    "\n",
    "# 単色背景を作成\n",
    "background = ColorClip(size=(1920, 1080), color=(30, 30, 30), duration=audio.duration)\n",
    "\n",
    "# 背景に音声を設定する\n",
    "video = background.set_audio(audio)\n",
    "\n",
    "# 動画を保存\n",
    "video.write_videofile(\"output_with_audio.mp4\", fps=24, codec=\"libx264\")\n"
   ]
  },
  {
   "cell_type": "code",
   "execution_count": 23,
   "metadata": {},
   "outputs": [
    {
     "ename": "ModuleNotFoundError",
     "evalue": "No module named 'moviepy.editor'",
     "output_type": "error",
     "traceback": [
      "\u001b[1;31m---------------------------------------------------------------------------\u001b[0m",
      "\u001b[1;31mModuleNotFoundError\u001b[0m                       Traceback (most recent call last)",
      "Cell \u001b[1;32mIn[23], line 1\u001b[0m\n\u001b[1;32m----> 1\u001b[0m \u001b[38;5;28;01mfrom\u001b[39;00m \u001b[38;5;21;01mmoviepy\u001b[39;00m\u001b[38;5;21;01m.\u001b[39;00m\u001b[38;5;21;01meditor\u001b[39;00m \u001b[38;5;28;01mimport\u001b[39;00m \u001b[38;5;241m*\u001b[39m\n\u001b[0;32m      3\u001b[0m \u001b[38;5;28;01mtry\u001b[39;00m:\n\u001b[0;32m      4\u001b[0m     \u001b[38;5;66;03m# 音声ファイルを読み込む\u001b[39;00m\n\u001b[0;32m      5\u001b[0m     \u001b[38;5;66;03m# audio = AudioFileClip(\"output.mp3\")\u001b[39;00m\n\u001b[0;32m      6\u001b[0m     file_name \u001b[38;5;241m=\u001b[39m \u001b[38;5;124m\"\u001b[39m\u001b[38;5;124m../mp3/gtts_output.mp3\u001b[39m\u001b[38;5;124m\"\u001b[39m\n",
      "\u001b[1;31mModuleNotFoundError\u001b[0m: No module named 'moviepy.editor'"
     ]
    }
   ],
   "source": [
    "from moviepy.editor import *\n",
    "\n",
    "try:\n",
    "    # 音声ファイルを読み込む\n",
    "    # audio = AudioFileClip(\"output.mp3\")\n",
    "    file_name = \"../mp3/gtts_output.mp3\"\n",
    "    audio = AudioFileClip(file_name)\n",
    "    print(\"音声の長さ（秒）:\", audio.duration)\n",
    "\n",
    "    # 音声の長さに合わせて背景を作成\n",
    "    background = ColorClip(size=(1920, 1080), color=(30, 30, 30), duration=audio.duration)\n",
    "\n",
    "    # 音声を背景に設定\n",
    "    video = background.set_audio(audio)\n",
    "\n",
    "    # 動画を保存\n",
    "    video.write_videofile(\"output_with_audio.mp4\", fps=24, codec=\"libx264\")\n",
    "\n",
    "except Exception as e:\n",
    "    print(\"エラーが発生しました:\", str(e))\n"
   ]
  },
  {
   "cell_type": "code",
   "execution_count": 1,
   "metadata": {},
   "outputs": [
    {
     "ename": "TypeError",
     "evalue": "got an unexpected keyword argument 'fontsize'",
     "output_type": "error",
     "traceback": [
      "\u001b[1;31m---------------------------------------------------------------------------\u001b[0m",
      "\u001b[1;31mTypeError\u001b[0m                                 Traceback (most recent call last)",
      "Cell \u001b[1;32mIn[1], line 8\u001b[0m\n\u001b[0;32m      4\u001b[0m background \u001b[38;5;241m=\u001b[39m ColorClip(size\u001b[38;5;241m=\u001b[39m(\u001b[38;5;241m1920\u001b[39m, \u001b[38;5;241m1080\u001b[39m), color\u001b[38;5;241m=\u001b[39m(\u001b[38;5;241m0\u001b[39m, \u001b[38;5;241m0\u001b[39m, \u001b[38;5;241m0\u001b[39m), duration\u001b[38;5;241m=\u001b[39m\u001b[38;5;241m12\u001b[39m)\n\u001b[0;32m      6\u001b[0m \u001b[38;5;66;03m# タイトルクリップ\u001b[39;00m\n\u001b[0;32m      7\u001b[0m title_clip \u001b[38;5;241m=\u001b[39m (\n\u001b[1;32m----> 8\u001b[0m     \u001b[43mTextClip\u001b[49m\u001b[43m(\u001b[49m\u001b[38;5;124;43m\"\u001b[39;49m\u001b[38;5;124;43mHello, MoviePy!\u001b[39;49m\u001b[38;5;124;43m\"\u001b[39;49m\u001b[43m,\u001b[49m\u001b[43m \u001b[49m\u001b[43mfontsize\u001b[49m\u001b[38;5;241;43m=\u001b[39;49m\u001b[38;5;241;43m70\u001b[39;49m\u001b[43m,\u001b[49m\u001b[43m \u001b[49m\u001b[43mcolor\u001b[49m\u001b[38;5;241;43m=\u001b[39;49m\u001b[38;5;124;43m\"\u001b[39;49m\u001b[38;5;124;43mwhite\u001b[39;49m\u001b[38;5;124;43m\"\u001b[39;49m\u001b[43m,\u001b[49m\u001b[43m \u001b[49m\u001b[43msize\u001b[49m\u001b[38;5;241;43m=\u001b[39;49m\u001b[43m(\u001b[49m\u001b[38;5;241;43m1920\u001b[39;49m\u001b[43m,\u001b[49m\u001b[43m \u001b[49m\u001b[38;5;241;43m1080\u001b[39;49m\u001b[43m)\u001b[49m\u001b[43m)\u001b[49m\n\u001b[0;32m      9\u001b[0m     \u001b[38;5;241m.\u001b[39mwith_duration(\u001b[38;5;241m10\u001b[39m)  \u001b[38;5;66;03m# 10秒間表示\u001b[39;00m\n\u001b[0;32m     10\u001b[0m     \u001b[38;5;241m.\u001b[39mwith_end(\u001b[38;5;241m10\u001b[39m)       \u001b[38;5;66;03m# 終了時間を10秒に設定\u001b[39;00m\n\u001b[0;32m     11\u001b[0m     \u001b[38;5;241m.\u001b[39mwith_effects([vfx\u001b[38;5;241m.\u001b[39mFadeIn(\u001b[38;5;241m1\u001b[39m), vfx\u001b[38;5;241m.\u001b[39mFadeOut(\u001b[38;5;241m1\u001b[39m)])  \u001b[38;5;66;03m# フェードインとフェードアウトを適用\u001b[39;00m\n\u001b[0;32m     12\u001b[0m )\n\u001b[0;32m     14\u001b[0m \u001b[38;5;66;03m# コンポジットクリップ\u001b[39;00m\n\u001b[0;32m     15\u001b[0m video \u001b[38;5;241m=\u001b[39m CompositeVideoClip([background, title_clip])\n",
      "File \u001b[1;32mc:\\Users\\JY810251\\python\\moviepy\\.venv\\Lib\\site-packages\\decorator.py:231\u001b[0m, in \u001b[0;36mdecorate.<locals>.fun\u001b[1;34m(*args, **kw)\u001b[0m\n\u001b[0;32m    229\u001b[0m \u001b[38;5;28;01mdef\u001b[39;00m \u001b[38;5;21mfun\u001b[39m(\u001b[38;5;241m*\u001b[39margs, \u001b[38;5;241m*\u001b[39m\u001b[38;5;241m*\u001b[39mkw):\n\u001b[0;32m    230\u001b[0m     \u001b[38;5;28;01mif\u001b[39;00m \u001b[38;5;129;01mnot\u001b[39;00m kwsyntax:\n\u001b[1;32m--> 231\u001b[0m         args, kw \u001b[38;5;241m=\u001b[39m \u001b[43mfix\u001b[49m\u001b[43m(\u001b[49m\u001b[43margs\u001b[49m\u001b[43m,\u001b[49m\u001b[43m \u001b[49m\u001b[43mkw\u001b[49m\u001b[43m,\u001b[49m\u001b[43m \u001b[49m\u001b[43msig\u001b[49m\u001b[43m)\u001b[49m\n\u001b[0;32m    232\u001b[0m     \u001b[38;5;28;01mreturn\u001b[39;00m caller(func, \u001b[38;5;241m*\u001b[39m(extras \u001b[38;5;241m+\u001b[39m args), \u001b[38;5;241m*\u001b[39m\u001b[38;5;241m*\u001b[39mkw)\n",
      "File \u001b[1;32mc:\\Users\\JY810251\\python\\moviepy\\.venv\\Lib\\site-packages\\decorator.py:203\u001b[0m, in \u001b[0;36mfix\u001b[1;34m(args, kwargs, sig)\u001b[0m\n\u001b[0;32m    199\u001b[0m \u001b[38;5;28;01mdef\u001b[39;00m \u001b[38;5;21mfix\u001b[39m(args, kwargs, sig):\n\u001b[0;32m    200\u001b[0m \u001b[38;5;250m    \u001b[39m\u001b[38;5;124;03m\"\"\"\u001b[39;00m\n\u001b[0;32m    201\u001b[0m \u001b[38;5;124;03m    Fix args and kwargs to be consistent with the signature\u001b[39;00m\n\u001b[0;32m    202\u001b[0m \u001b[38;5;124;03m    \"\"\"\u001b[39;00m\n\u001b[1;32m--> 203\u001b[0m     ba \u001b[38;5;241m=\u001b[39m \u001b[43msig\u001b[49m\u001b[38;5;241;43m.\u001b[39;49m\u001b[43mbind\u001b[49m\u001b[43m(\u001b[49m\u001b[38;5;241;43m*\u001b[39;49m\u001b[43margs\u001b[49m\u001b[43m,\u001b[49m\u001b[43m \u001b[49m\u001b[38;5;241;43m*\u001b[39;49m\u001b[38;5;241;43m*\u001b[39;49m\u001b[43mkwargs\u001b[49m\u001b[43m)\u001b[49m\n\u001b[0;32m    204\u001b[0m     ba\u001b[38;5;241m.\u001b[39mapply_defaults()  \u001b[38;5;66;03m# needed for test_dan_schult\u001b[39;00m\n\u001b[0;32m    205\u001b[0m     \u001b[38;5;28;01mreturn\u001b[39;00m ba\u001b[38;5;241m.\u001b[39margs, ba\u001b[38;5;241m.\u001b[39mkwargs\n",
      "File \u001b[1;32mC:\\Program Files\\WindowsApps\\PythonSoftwareFoundation.Python.3.11_3.11.2544.0_x64__qbz5n2kfra8p0\\Lib\\inspect.py:3195\u001b[0m, in \u001b[0;36mSignature.bind\u001b[1;34m(self, *args, **kwargs)\u001b[0m\n\u001b[0;32m   3190\u001b[0m \u001b[38;5;28;01mdef\u001b[39;00m \u001b[38;5;21mbind\u001b[39m(\u001b[38;5;28mself\u001b[39m, \u001b[38;5;241m/\u001b[39m, \u001b[38;5;241m*\u001b[39margs, \u001b[38;5;241m*\u001b[39m\u001b[38;5;241m*\u001b[39mkwargs):\n\u001b[0;32m   3191\u001b[0m \u001b[38;5;250m    \u001b[39m\u001b[38;5;124;03m\"\"\"Get a BoundArguments object, that maps the passed `args`\u001b[39;00m\n\u001b[0;32m   3192\u001b[0m \u001b[38;5;124;03m    and `kwargs` to the function's signature.  Raises `TypeError`\u001b[39;00m\n\u001b[0;32m   3193\u001b[0m \u001b[38;5;124;03m    if the passed arguments can not be bound.\u001b[39;00m\n\u001b[0;32m   3194\u001b[0m \u001b[38;5;124;03m    \"\"\"\u001b[39;00m\n\u001b[1;32m-> 3195\u001b[0m     \u001b[38;5;28;01mreturn\u001b[39;00m \u001b[38;5;28;43mself\u001b[39;49m\u001b[38;5;241;43m.\u001b[39;49m\u001b[43m_bind\u001b[49m\u001b[43m(\u001b[49m\u001b[43margs\u001b[49m\u001b[43m,\u001b[49m\u001b[43m \u001b[49m\u001b[43mkwargs\u001b[49m\u001b[43m)\u001b[49m\n",
      "File \u001b[1;32mC:\\Program Files\\WindowsApps\\PythonSoftwareFoundation.Python.3.11_3.11.2544.0_x64__qbz5n2kfra8p0\\Lib\\inspect.py:3184\u001b[0m, in \u001b[0;36mSignature._bind\u001b[1;34m(self, args, kwargs, partial)\u001b[0m\n\u001b[0;32m   3182\u001b[0m         arguments[kwargs_param\u001b[38;5;241m.\u001b[39mname] \u001b[38;5;241m=\u001b[39m kwargs\n\u001b[0;32m   3183\u001b[0m     \u001b[38;5;28;01melse\u001b[39;00m:\n\u001b[1;32m-> 3184\u001b[0m         \u001b[38;5;28;01mraise\u001b[39;00m \u001b[38;5;167;01mTypeError\u001b[39;00m(\n\u001b[0;32m   3185\u001b[0m             \u001b[38;5;124m'\u001b[39m\u001b[38;5;124mgot an unexpected keyword argument \u001b[39m\u001b[38;5;132;01m{arg!r}\u001b[39;00m\u001b[38;5;124m'\u001b[39m\u001b[38;5;241m.\u001b[39mformat(\n\u001b[0;32m   3186\u001b[0m                 arg\u001b[38;5;241m=\u001b[39m\u001b[38;5;28mnext\u001b[39m(\u001b[38;5;28miter\u001b[39m(kwargs))))\n\u001b[0;32m   3188\u001b[0m \u001b[38;5;28;01mreturn\u001b[39;00m \u001b[38;5;28mself\u001b[39m\u001b[38;5;241m.\u001b[39m_bound_arguments_cls(\u001b[38;5;28mself\u001b[39m, arguments)\n",
      "\u001b[1;31mTypeError\u001b[0m: got an unexpected keyword argument 'fontsize'"
     ]
    }
   ],
   "source": [
    "from moviepy import TextClip, ColorClip, CompositeVideoClip, vfx\n",
    "\n",
    "# 背景クリップ\n",
    "background = ColorClip(size=(1920, 1080), color=(0, 0, 0), duration=12)\n",
    "\n",
    "# タイトルクリップ\n",
    "title_clip = (\n",
    "    TextClip(\"Hello, MoviePy!\", fontsize=70, color=\"white\", size=(1920, 1080))\n",
    "    .with_duration(10)  # 10秒間表示\n",
    "    .with_end(10)       # 終了時間を10秒に設定\n",
    "    .with_effects([vfx.FadeIn(1), vfx.FadeOut(1)])  # フェードインとフェードアウトを適用\n",
    ")\n",
    "\n",
    "# コンポジットクリップ\n",
    "video = CompositeVideoClip([background, title_clip])\n",
    "\n",
    "# 書き出し\n",
    "video.write_videofile(\"fadein_fadeout_title.mp4\", fps=24)\n"
   ]
  }
 ],
 "metadata": {
  "kernelspec": {
   "display_name": ".venv",
   "language": "python",
   "name": "python3"
  },
  "language_info": {
   "codemirror_mode": {
    "name": "ipython",
    "version": 3
   },
   "file_extension": ".py",
   "mimetype": "text/x-python",
   "name": "python",
   "nbconvert_exporter": "python",
   "pygments_lexer": "ipython3",
   "version": "3.11.9"
  }
 },
 "nbformat": 4,
 "nbformat_minor": 2
}
