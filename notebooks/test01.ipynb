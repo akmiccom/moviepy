{
 "cells": [
  {
   "cell_type": "code",
   "execution_count": 44,
   "metadata": {},
   "outputs": [],
   "source": [
    "import os\n",
    "FFMPEG_PATH = \"C:/Users/JY810251/ffmpeg-master-latest-win64-gpl-shared/bin\"\n",
    "os.environ[\"FFMPEG_BINARY\"] = f\"{FFMPEG_PATH}/ffmpeg.exe\"\n",
    "os.environ[\"FFPLAY_BINARY\"] = f\"{FFMPEG_PATH}/ffplay.exe\"\n",
    "\n",
    "from moviepy import AudioFileClip, ColorClip, TextClip, CompositeVideoClip\n",
    "import matplotlib.pyplot as plt\n",
    "import matplotlib.image as mpimg\n",
    "from glob import glob\n",
    "import re"
   ]
  },
  {
   "cell_type": "code",
   "execution_count": 45,
   "metadata": {},
   "outputs": [],
   "source": [
    "MAIN_PATH = \"C:/Users/JY810251/python/dailydictation\""
   ]
  },
  {
   "cell_type": "code",
   "execution_count": 31,
   "metadata": {},
   "outputs": [],
   "source": [
    "# Get title and section from markdown\n",
    "markdown_path = f\"{MAIN_PATH}/markdown/DailyDictation_conversation_English.md\"\n",
    "with open(markdown_path) as f:\n",
    "    markdown_text = f.read()\n",
    "\n",
    "# Extract text by section using re\n",
    "sections = re.split(r\"##\\s+\\d+\\.\\s+[^\\n]+\\n\", markdown_text)[1:]\n",
    "titles = re.findall(r\"##\\s+\\d+\\.\\s+[^\\n]+\", markdown_text)\n",
    "\n",
    "# Line Break Adjustments\n",
    "sections = [f\"{section.strip()}\\n\" for section in sections]\n",
    "titles = [re.sub(\"## \", \"\", title) for title in titles]"
   ]
  },
  {
   "cell_type": "code",
   "execution_count": 51,
   "metadata": {},
   "outputs": [],
   "source": [
    "# Get mp3 list\n",
    "AUDIO_FILE = rf\"{MAIN_PATH}\\mp3\\*.mp3\"\n",
    "audio_files = sorted(glob(AUDIO_FILE), key=lambda x: int(x.split(\"\\\\\")[-1].split(\"-\")[0]))"
   ]
  },
  {
   "cell_type": "code",
   "execution_count": 32,
   "metadata": {},
   "outputs": [
    {
     "name": "stdout",
     "output_type": "stream",
     "text": [
      "77 43\n",
      "89 979\n",
      "24 1\n"
     ]
    }
   ],
   "source": [
    "max_v, index = 0, 0\n",
    "for i, t in enumerate(titles):\n",
    "    if max_v < len(t):\n",
    "        max_v = len(t)\n",
    "        index = i\n",
    "print(index, max_v)\n",
    "max_v, index = 0, 0\n",
    "for i, t in enumerate(sections):\n",
    "    if max_v < len(t):\n",
    "        max_v = len(t)\n",
    "        index = i\n",
    "print(index, max_v)\n",
    "min_v, index = 100000, 0\n",
    "for i, t in enumerate(sections):\n",
    "    if min_v > len(t):\n",
    "        min_v = len(t)\n",
    "        index = i\n",
    "print(index, min_v)\n"
   ]
  },
  {
   "cell_type": "code",
   "execution_count": 52,
   "metadata": {},
   "outputs": [
    {
     "name": "stdout",
     "output_type": "stream",
     "text": [
      "C:/Users/JY810251/python/dailydictation\\mp3\\22-employing-a-new-member.mp3\n",
      "22. Employing a new member\n",
      "Well, this woman may be suitable for the job.\n",
      "But is she energetic enough?\n",
      "Yes, she certainly seems  ...\n"
     ]
    }
   ],
   "source": [
    "n = 79\n",
    "n = 22\n",
    "n = 77 # max title\n",
    "n = 89 # max sections\n",
    "n = 21\n",
    "print(audio_files[n])\n",
    "print(titles[n])\n",
    "print(f\"{sections[n][:100]} ...\")"
   ]
  },
  {
   "cell_type": "code",
   "execution_count": 55,
   "metadata": {},
   "outputs": [
    {
     "name": "stdout",
     "output_type": "stream",
     "text": [
      "Audio file: C:/Users/JY810251/python/dailydictation\\mp3\\22-employing-a-new-member.mp3\n",
      "Audio Duration: 28.6 seconds\n"
     ]
    }
   ],
   "source": [
    "# 音声ファイル\n",
    "audio = AudioFileClip(audio_files[n], buffersize=200000, nbytes=2, fps=44100)\n",
    "\n",
    "print(f\"Audio file: {audio_files[n]}\")\n",
    "print(f\"Audio Duration: {audio.duration} seconds\")"
   ]
  },
  {
   "cell_type": "code",
   "execution_count": 56,
   "metadata": {},
   "outputs": [
    {
     "name": "stdout",
     "output_type": "stream",
     "text": [
      "Video Duration: 33.6 sec\n",
      "Size: (1920, 1080)\n"
     ]
    }
   ],
   "source": [
    "# 背景動画\n",
    "FHD = 1920, 1080\n",
    "RGB = 30, 30, 30\n",
    "video_duration = audio.duration + 5\n",
    "color_clip = ColorClip(FHD, RGB, duration=video_duration)\n",
    "\n",
    "print(f\"Video Duration: {color_clip.duration} sec\")\n",
    "print(f\"Size: {color_clip.size}\")"
   ]
  },
  {
   "cell_type": "code",
   "execution_count": 37,
   "metadata": {},
   "outputs": [],
   "source": [
    "# TextClip(\n",
    "#     font,\n",
    "#     text=None,\n",
    "#     filename=None,\n",
    "#     font_size=None,\n",
    "#     size=(None, None),\n",
    "#     margin=(None, None),\n",
    "#     color=\"black\",\n",
    "#     bg_color=None,\n",
    "#     stroke_color=None,\n",
    "#     stroke_width=0,\n",
    "#     method=\"label\",\n",
    "#     text_align=\"left\",\n",
    "#     horizontal_align=\"center\",\n",
    "#     vertical_align=\"center\",\n",
    "#     interline=4,\n",
    "#     transparent=True,\n",
    "#     duration=None,\n",
    "# )"
   ]
  },
  {
   "cell_type": "code",
   "execution_count": 59,
   "metadata": {},
   "outputs": [
    {
     "name": "stderr",
     "output_type": "stream",
     "text": [
      "                                                               \r"
     ]
    },
    {
     "data": {
      "image/png": "[encoded data removed]",
      "text/plain": [
       "<Figure size 640x480 with 1 Axes>"
      ]
     },
     "metadata": {},
     "output_type": "display_data"
    },
    {
     "name": "stdout",
     "output_type": "stream",
     "text": [
      "1920 200\n"
     ]
    }
   ],
   "source": [
    "# Title Clip\n",
    "FONT = \"../font/ARIAL.ttf\"\n",
    "FONT = \"../font/TIMES.ttf\"\n",
    "FONT = \"../font/MONOS.ttf\"\n",
    "TITLE_HIGHT = 200\n",
    "MARGIN_H, MARGIN_V = 30, 30\n",
    "\n",
    "title_clip = TextClip(\n",
    "    FONT,\n",
    "    text=titles[n],\n",
    "    font_size=95,\n",
    "    size=(FHD[0]-MARGIN_H-MARGIN_V, TITLE_HIGHT-MARGIN_H-MARGIN_V),\n",
    "    margin=(MARGIN_H, MARGIN_V),\n",
    "    color=\"white\",\n",
    "    bg_color=RGB,\n",
    "    method=\"label\",\n",
    "    horizontal_align=\"center\",\n",
    "    vertical_align=\"top\",\n",
    "    duration=video_duration,\n",
    ")\n",
    "\n",
    "# Check\n",
    "title_clip_file = f\"../img/title_clip_No.{n+1}.png\"\n",
    "title_clip.save_frame(title_clip_file)\n",
    "img = mpimg.imread(title_clip_file)\n",
    "plt.imshow(img)\n",
    "plt.show()  # 画像を表示\n",
    "print(title_clip.w, title_clip.h)"
   ]
  },
  {
   "cell_type": "code",
   "execution_count": null,
   "metadata": {},
   "outputs": [
    {
     "data": {
      "image/png": "[encoded data removed]",
      "text/plain": [
       "<Figure size 640x480 with 1 Axes>"
      ]
     },
     "metadata": {},
     "output_type": "display_data"
    },
    {
     "name": "stdout",
     "output_type": "stream",
     "text": [
      "1920 818\n"
     ]
    }
   ],
   "source": [
    "# Sectons Clip\n",
    "section_clip = TextClip(\n",
    "    FONT,\n",
    "    sections[n],\n",
    "    # font_size=80,\n",
    "    color=\"white\",\n",
    "    size=(1920-80, None),\n",
    "    # method=\"caption\",\n",
    "    method=\"label\",\n",
    "    margin=(50, 50, 30, 0),\n",
    "    interline=50,\n",
    "    duration=video_duration,\n",
    ")\n",
    "\n",
    "section_clip_file = f\"../img/section_clip_No.{n+1}.png\"\n",
    "section_clip.save_frame(section_clip_file)\n",
    "img = mpimg.imread(section_clip_file)\n",
    "plt.imshow(img)\n",
    "plt.show()\n",
    "print(section_clip.w, section_clip.h)"
   ]
  },
  {
   "cell_type": "code",
   "execution_count": 40,
   "metadata": {},
   "outputs": [
    {
     "name": "stdout",
     "output_type": "stream",
     "text": [
      "29.21428571428571\n"
     ]
    }
   ],
   "source": [
    "START_POSITION = 900\n",
    "SPEED_PARAMETER = 1.2\n",
    "initial_speed = section_clip.h / video_duration * SPEED_PARAMETER\n",
    "print(initial_speed)\n",
    "section_clip = section_clip.with_position(\n",
    "    lambda t: (\"center\", START_POSITION - t * initial_speed)\n",
    ")"
   ]
  },
  {
   "cell_type": "code",
   "execution_count": 41,
   "metadata": {},
   "outputs": [],
   "source": [
    "# 背景と音声を合成\n",
    "background_with_audio = color_clip.with_audio(audio)\n",
    "\n",
    "# 背景とテキストを合成\n",
    "video = CompositeVideoClip([background_with_audio, section_clip, title_clip])"
   ]
  },
  {
   "cell_type": "code",
   "execution_count": 42,
   "metadata": {},
   "outputs": [
    {
     "name": "stderr",
     "output_type": "stream",
     "text": [
      "                                                              \n",
      "\u001b[A                                                               "
     ]
    },
    {
     "name": "stderr",
     "output_type": "stream",
     "text": [
      "                                                               \n",
      "chunk: 100%|██████████| 1/1 [06:44<00:00, 404.61s/it, now=None]   "
     ]
    },
    {
     "name": "stdout",
     "output_type": "stream",
     "text": [
      "MoviePy - Building video ../mp4/test_No.22.mp4.\n",
      "MoviePy - Writing audio in test_No.22TEMP_MPY_wvf_snd.mp3\n"
     ]
    },
    {
     "name": "stderr",
     "output_type": "stream",
     "text": [
      "\n",
      "\u001b[A\n",
      "\u001b[A\n",
      "\u001b[A\n",
      "\u001b[A\n",
      "\u001b[A\n",
      "\u001b[A\n",
      "                                                               \n",
      "                                                                  \n",
      "chunk: 100%|██████████| 1/1 [06:45<00:00, 405.36s/it, now=None]   "
     ]
    },
    {
     "name": "stdout",
     "output_type": "stream",
     "text": [
      "MoviePy - Done.\n",
      "MoviePy - Writing video ../mp4/test_No.22.mp4\n",
      "\n"
     ]
    },
    {
     "name": "stderr",
     "output_type": "stream",
     "text": [
      "\n",
      "\u001b[A\n",
      "\u001b[A\n",
      "\u001b[A\n",
      "\u001b[A\n",
      "\u001b[A\n",
      "\u001b[A\n",
      "\u001b[A\n",
      "\u001b[A\n",
      "\u001b[A\n",
      "\u001b[A\n",
      "\u001b[A\n",
      "\u001b[A\n",
      "\u001b[A\n",
      "\u001b[A\n",
      "\u001b[A\n",
      "\u001b[A\n",
      "\u001b[A\n",
      "\u001b[A\n",
      "\u001b[A\n",
      "\u001b[A\n",
      "\u001b[A\n",
      "\u001b[A\n",
      "\u001b[A\n",
      "\u001b[A\n",
      "\u001b[A\n",
      "\u001b[A\n",
      "\u001b[A\n",
      "\u001b[A\n",
      "\u001b[A\n",
      "\u001b[A\n",
      "\u001b[A\n",
      "\u001b[A\n",
      "\u001b[A\n",
      "                                                               \n",
      "                                                                  \n",
      "chunk: 100%|██████████| 1/1 [06:52<00:00, 412.10s/it, now=None]   "
     ]
    },
    {
     "name": "stdout",
     "output_type": "stream",
     "text": [
      "MoviePy - Done !\n",
      "MoviePy - video ready ../mp4/test_No.22.mp4\n"
     ]
    }
   ],
   "source": [
    "# 動画を保存\n",
    "video.write_videofile(f\"../mp4/test_No.{n+1}.mp4\", fps=1, codec=\"libx264\")"
   ]
  },
  {
   "cell_type": "code",
   "execution_count": null,
   "metadata": {},
   "outputs": [],
   "source": []
  }
 ],
 "metadata": {
  "kernelspec": {
   "display_name": ".venv",
   "language": "python",
   "name": "python3"
  },
  "language_info": {
   "codemirror_mode": {
    "name": "ipython",
    "version": 3
   },
   "file_extension": ".py",
   "mimetype": "text/x-python",
   "name": "python",
   "nbconvert_exporter": "python",
   "pygments_lexer": "ipython3",
   "version": "3.11.9"
  }
 },
 "nbformat": 4,
 "nbformat_minor": 2
}
